{
 "cells": [
  {
   "cell_type": "code",
   "execution_count": null,
   "id": "2982aaf0",
   "metadata": {},
   "outputs": [],
   "source": [
    "%pip install -r requirements.txt"
   ]
  },
  {
   "cell_type": "code",
   "execution_count": null,
   "id": "2e8696aa",
   "metadata": {},
   "outputs": [],
   "source": [
    "import pandas as pd\n",
    "import numpy as np"
   ]
  },
  {
   "cell_type": "code",
   "execution_count": null,
   "id": "e2da4b98",
   "metadata": {},
   "outputs": [],
   "source": [
    "df = pd.read_csv('netflix_titles.csv')\n",
    "initial_count = df.shape[0]\n",
    "print(df.shape)\n",
    "print(initial_count)\n",
    "df.head(10)"
   ]
  },
  {
   "cell_type": "code",
   "execution_count": null,
   "id": "62a764a7",
   "metadata": {},
   "outputs": [],
   "source": [
    "df = df.drop_duplicates()\n",
    "df.head(10)"
   ]
  },
  {
   "cell_type": "code",
   "execution_count": null,
   "id": "113ef423",
   "metadata": {},
   "outputs": [],
   "source": [
    "count_after_drop_duplicates = df.shape[0]\n",
    "count_drop = initial_count - count_after_drop_duplicates\n",
    "print(\"Number of rows dropped: \", count_drop)\n",
    "print(df.shape)\n",
    "df.isnull().sum()"
   ]
  },
  {
   "cell_type": "code",
   "execution_count": null,
   "id": "ba6f7531",
   "metadata": {},
   "outputs": [],
   "source": [
    "df = df.dropna(subset=['title', 'type']).reset_index(drop=True) #More logical\n",
    "# df = df.dropna().reset_index(drop=True) #Not logical since dropping other coloumns than title and type makes no sense\n",
    "print(df.shape)\n",
    "count_after_dropping_na = df.shape[0]\n",
    "count_drop_na = count_after_drop_duplicates - count_after_dropping_na\n",
    "print(\"Number of rows dropped (NA): \", count_drop_na)\n",
    "df.head(10)"
   ]
  },
  {
   "cell_type": "code",
   "execution_count": null,
   "id": "23990bb9",
   "metadata": {},
   "outputs": [],
   "source": [
    "text_cols = ['country', 'type', 'director', 'cast', 'listed_in']\n",
    "for col in text_cols:\n",
    "    if col in df.columns:\n",
    "        df[col] = df[col].astype(str).str.strip().replace('nan', np.nan)\n",
    "        df[col] = df[col].where(df[col].isna(), df[col].str.lower())\n",
    "df.head(10)"
   ]
  },
  {
   "cell_type": "code",
   "execution_count": null,
   "id": "a377708b",
   "metadata": {},
   "outputs": [],
   "source": [
    "if 'date_added' in df.columns:\n",
    "    from dateutil import parser\n",
    "    import warnings\n",
    "    warnings.filterwarnings('ignore')\n",
    "    \n",
    "    def parse_date_flexible(date_str):\n",
    "        if pd.isna(date_str):\n",
    "            return None\n",
    "        try:\n",
    "            return parser.parse(str(date_str))\n",
    "        except:\n",
    "            try:\n",
    "                return pd.to_datetime(date_str, format='%B %d, %Y')\n",
    "            except:\n",
    "                return None\n",
    "    \n",
    "    df['date_added'] = df['date_added'].apply(parse_date_flexible)\n",
    "    \n",
    "    df['date_added'] = pd.to_datetime(df['date_added'], errors='coerce').dt.strftime('%d-%m-%Y')\n",
    "\n",
    "if 'release_year' in df.columns:\n",
    "    df['release_year'] = pd.to_numeric(df['release_year'], errors='coerce').astype('Int64')\n",
    "    \n",
    "if 'rating' in df.columns:\n",
    "    df['rating'] = df['rating'].astype('category')\n",
    "    \n",
    "if 'type' in df.columns:\n",
    "    df['type'] = df['type'].astype('category')\n",
    "    \n",
    "df.head(10)"
   ]
  },
  {
   "cell_type": "code",
   "execution_count": null,
   "id": "752b315d",
   "metadata": {},
   "outputs": [],
   "source": [
    "df.columns = [col.strip().lower().replace(' ', '_') for col in df.columns]\n",
    "df.head(10)"
   ]
  },
  {
   "cell_type": "code",
   "execution_count": null,
   "id": "9503966d",
   "metadata": {},
   "outputs": [],
   "source": [
    "print('Final shape:', df.shape)\n",
    "print('\\nNull counts after cleaning:\\n', df.isnull().sum(), '\\n')\n",
    "print(df.dtypes)\n",
    "df.to_csv('cleaned_netflix_titles.csv', index=False)\n",
    "print('Saved cleaned dataset to cleaned_netflix_titles.csv')\n",
    "df.head(10)"
   ]
  }
 ],
 "metadata": {
  "kernelspec": {
   "display_name": ".netflix_env (3.13.7)",
   "language": "python",
   "name": "python3"
  },
  "language_info": {
   "codemirror_mode": {
    "name": "ipython",
    "version": 3
   },
   "file_extension": ".py",
   "mimetype": "text/x-python",
   "name": "python",
   "nbconvert_exporter": "python",
   "pygments_lexer": "ipython3",
   "version": "3.13.7"
  }
 },
 "nbformat": 4,
 "nbformat_minor": 5
}
